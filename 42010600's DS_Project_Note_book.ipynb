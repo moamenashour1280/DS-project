{
 "cells": [
  {
   "cell_type": "markdown",
   "id": "5f52808c",
   "metadata": {},
   "source": [
    "# Import important lib"
   ]
  },
  {
   "cell_type": "code",
   "execution_count": 1,
   "id": "c63831be",
   "metadata": {},
   "outputs": [],
   "source": [
    "import pandas as pd\n",
    "import pandas as pd\n",
    "import matplotlib.pyplot as plt\n",
    "from scipy import stats\n",
    "from sklearn.linear_model import LinearRegression\n",
    "from sklearn.preprocessing import LabelEncoder\n",
    "from sklearn.metrics import r2_score\n"
   ]
  },
  {
   "cell_type": "code",
   "execution_count": 2,
   "id": "e90be6f5",
   "metadata": {},
   "outputs": [],
   "source": [
    "df = pd.read_csv('bikes.csv')"
   ]
  },
  {
   "cell_type": "code",
   "execution_count": 3,
   "id": "9573aaf9",
   "metadata": {},
   "outputs": [
    {
     "data": {
      "text/html": [
       "<div>\n",
       "<style scoped>\n",
       "    .dataframe tbody tr th:only-of-type {\n",
       "        vertical-align: middle;\n",
       "    }\n",
       "\n",
       "    .dataframe tbody tr th {\n",
       "        vertical-align: top;\n",
       "    }\n",
       "\n",
       "    .dataframe thead th {\n",
       "        text-align: right;\n",
       "    }\n",
       "</style>\n",
       "<table border=\"1\" class=\"dataframe\">\n",
       "  <thead>\n",
       "    <tr style=\"text-align: right;\">\n",
       "      <th></th>\n",
       "      <th>model_name</th>\n",
       "      <th>model_year</th>\n",
       "      <th>kms_driven</th>\n",
       "      <th>owner</th>\n",
       "      <th>location</th>\n",
       "      <th>mileage</th>\n",
       "      <th>power</th>\n",
       "      <th>price</th>\n",
       "    </tr>\n",
       "  </thead>\n",
       "  <tbody>\n",
       "    <tr>\n",
       "      <th>0</th>\n",
       "      <td>Bajaj Avenger Cruise 220 2017</td>\n",
       "      <td>2017</td>\n",
       "      <td>17000 Km</td>\n",
       "      <td>first owner</td>\n",
       "      <td>hyderabad</td>\n",
       "      <td>\\n\\n 35 kmpl</td>\n",
       "      <td>19 bhp</td>\n",
       "      <td>63500</td>\n",
       "    </tr>\n",
       "    <tr>\n",
       "      <th>1</th>\n",
       "      <td>Royal Enfield Classic 350cc 2016</td>\n",
       "      <td>2016</td>\n",
       "      <td>50000 Km</td>\n",
       "      <td>first owner</td>\n",
       "      <td>hyderabad</td>\n",
       "      <td>\\n\\n 35 kmpl</td>\n",
       "      <td>19.80 bhp</td>\n",
       "      <td>115000</td>\n",
       "    </tr>\n",
       "    <tr>\n",
       "      <th>2</th>\n",
       "      <td>Hyosung GT250R 2012</td>\n",
       "      <td>2012</td>\n",
       "      <td>14795 Km</td>\n",
       "      <td>first owner</td>\n",
       "      <td>hyderabad</td>\n",
       "      <td>\\n\\n 30 kmpl</td>\n",
       "      <td>28 bhp</td>\n",
       "      <td>300000</td>\n",
       "    </tr>\n",
       "    <tr>\n",
       "      <th>3</th>\n",
       "      <td>Bajaj Dominar 400 ABS 2017</td>\n",
       "      <td>2017</td>\n",
       "      <td>Mileage 28 Kms</td>\n",
       "      <td>first owner</td>\n",
       "      <td>pondicherry</td>\n",
       "      <td>\\n\\n 28 Kms</td>\n",
       "      <td>34.50 bhp</td>\n",
       "      <td>100000</td>\n",
       "    </tr>\n",
       "    <tr>\n",
       "      <th>4</th>\n",
       "      <td>Jawa Perak 330cc 2020</td>\n",
       "      <td>2020</td>\n",
       "      <td>2000 Km</td>\n",
       "      <td>first owner</td>\n",
       "      <td>bangalore</td>\n",
       "      <td>\\n\\n</td>\n",
       "      <td>30 bhp</td>\n",
       "      <td>197500</td>\n",
       "    </tr>\n",
       "    <tr>\n",
       "      <th>...</th>\n",
       "      <td>...</td>\n",
       "      <td>...</td>\n",
       "      <td>...</td>\n",
       "      <td>...</td>\n",
       "      <td>...</td>\n",
       "      <td>...</td>\n",
       "      <td>...</td>\n",
       "      <td>...</td>\n",
       "    </tr>\n",
       "    <tr>\n",
       "      <th>8068</th>\n",
       "      <td>Yamaha YZF-R15 150cc 2016</td>\n",
       "      <td>2016</td>\n",
       "      <td>18000 Km</td>\n",
       "      <td>first owner</td>\n",
       "      <td>ambala</td>\n",
       "      <td>\\n\\n 42 kmpl</td>\n",
       "      <td>16 bhp</td>\n",
       "      <td>65000</td>\n",
       "    </tr>\n",
       "    <tr>\n",
       "      <th>8069</th>\n",
       "      <td>Royal Enfield Thunderbird 350cc 2018</td>\n",
       "      <td>2018</td>\n",
       "      <td>4000 Km</td>\n",
       "      <td>first owner</td>\n",
       "      <td>jalandhar</td>\n",
       "      <td>\\n\\n 40 kmpl</td>\n",
       "      <td>19.80 bhp</td>\n",
       "      <td>150000</td>\n",
       "    </tr>\n",
       "    <tr>\n",
       "      <th>8070</th>\n",
       "      <td>Royal Enfield Classic 350cc 2019</td>\n",
       "      <td>2019</td>\n",
       "      <td>12000 Km</td>\n",
       "      <td>first owner</td>\n",
       "      <td>delhi</td>\n",
       "      <td>\\n\\n 35 kmpl</td>\n",
       "      <td>19.80 bhp</td>\n",
       "      <td>162000</td>\n",
       "    </tr>\n",
       "    <tr>\n",
       "      <th>8071</th>\n",
       "      <td>Royal Enfield Himalayan 410cc Fi ABS BS6 2020</td>\n",
       "      <td>2020</td>\n",
       "      <td>3000 Km</td>\n",
       "      <td>first owner</td>\n",
       "      <td>delhi</td>\n",
       "      <td>\\n\\n 32 kmpl</td>\n",
       "      <td>24.3 bhp</td>\n",
       "      <td>210000</td>\n",
       "    </tr>\n",
       "    <tr>\n",
       "      <th>8072</th>\n",
       "      <td>Mahindra Centuro 110cc 2014</td>\n",
       "      <td>2014</td>\n",
       "      <td>38000 Km</td>\n",
       "      <td>first owner</td>\n",
       "      <td>hyderabad</td>\n",
       "      <td>\\n\\n  60 kmpl</td>\n",
       "      <td>8.5 Bhp</td>\n",
       "      <td>33000</td>\n",
       "    </tr>\n",
       "  </tbody>\n",
       "</table>\n",
       "<p>8073 rows × 8 columns</p>\n",
       "</div>"
      ],
      "text/plain": [
       "                                         model_name  model_year  \\\n",
       "0                     Bajaj Avenger Cruise 220 2017        2017   \n",
       "1                  Royal Enfield Classic 350cc 2016        2016   \n",
       "2                               Hyosung GT250R 2012        2012   \n",
       "3                        Bajaj Dominar 400 ABS 2017        2017   \n",
       "4                             Jawa Perak 330cc 2020        2020   \n",
       "...                                             ...         ...   \n",
       "8068                      Yamaha YZF-R15 150cc 2016        2016   \n",
       "8069           Royal Enfield Thunderbird 350cc 2018        2018   \n",
       "8070               Royal Enfield Classic 350cc 2019        2019   \n",
       "8071  Royal Enfield Himalayan 410cc Fi ABS BS6 2020        2020   \n",
       "8072                    Mahindra Centuro 110cc 2014        2014   \n",
       "\n",
       "          kms_driven        owner     location        mileage      power  \\\n",
       "0           17000 Km  first owner    hyderabad   \\n\\n 35 kmpl     19 bhp   \n",
       "1           50000 Km  first owner    hyderabad   \\n\\n 35 kmpl  19.80 bhp   \n",
       "2           14795 Km  first owner    hyderabad   \\n\\n 30 kmpl     28 bhp   \n",
       "3     Mileage 28 Kms  first owner  pondicherry    \\n\\n 28 Kms  34.50 bhp   \n",
       "4            2000 Km  first owner    bangalore          \\n\\n      30 bhp   \n",
       "...              ...          ...          ...            ...        ...   \n",
       "8068        18000 Km  first owner       ambala   \\n\\n 42 kmpl     16 bhp   \n",
       "8069         4000 Km  first owner    jalandhar   \\n\\n 40 kmpl  19.80 bhp   \n",
       "8070        12000 Km  first owner        delhi   \\n\\n 35 kmpl  19.80 bhp   \n",
       "8071         3000 Km  first owner        delhi   \\n\\n 32 kmpl   24.3 bhp   \n",
       "8072        38000 Km  first owner    hyderabad  \\n\\n  60 kmpl    8.5 Bhp   \n",
       "\n",
       "       price  \n",
       "0      63500  \n",
       "1     115000  \n",
       "2     300000  \n",
       "3     100000  \n",
       "4     197500  \n",
       "...      ...  \n",
       "8068   65000  \n",
       "8069  150000  \n",
       "8070  162000  \n",
       "8071  210000  \n",
       "8072   33000  \n",
       "\n",
       "[8073 rows x 8 columns]"
      ]
     },
     "execution_count": 3,
     "metadata": {},
     "output_type": "execute_result"
    }
   ],
   "source": [
    "df"
   ]
  },
  {
   "cell_type": "code",
   "execution_count": 4,
   "id": "6231e169",
   "metadata": {},
   "outputs": [
    {
     "data": {
      "text/plain": [
       "(8073, 8)"
      ]
     },
     "execution_count": 4,
     "metadata": {},
     "output_type": "execute_result"
    }
   ],
   "source": [
    "df.shape"
   ]
  },
  {
   "cell_type": "code",
   "execution_count": 5,
   "id": "55388f8d",
   "metadata": {},
   "outputs": [
    {
     "name": "stdout",
     "output_type": "stream",
     "text": [
      "<class 'pandas.core.frame.DataFrame'>\n",
      "RangeIndex: 8073 entries, 0 to 8072\n",
      "Data columns (total 8 columns):\n",
      " #   Column      Non-Null Count  Dtype \n",
      "---  ------      --------------  ----- \n",
      " 0   model_name  8073 non-null   object\n",
      " 1   model_year  8073 non-null   int64 \n",
      " 2   kms_driven  8073 non-null   object\n",
      " 3   owner       8073 non-null   object\n",
      " 4   location    8054 non-null   object\n",
      " 5   mileage     8060 non-null   object\n",
      " 6   power       8041 non-null   object\n",
      " 7   price       8073 non-null   int64 \n",
      "dtypes: int64(2), object(6)\n",
      "memory usage: 504.7+ KB\n"
     ]
    }
   ],
   "source": [
    "df.info()"
   ]
  },
  {
   "cell_type": "markdown",
   "id": "f4c5faa0",
   "metadata": {},
   "source": [
    "# Drop dublicates"
   ]
  },
  {
   "cell_type": "code",
   "execution_count": 6,
   "id": "926d15d8",
   "metadata": {},
   "outputs": [],
   "source": [
    "df.dropna(inplace=True)"
   ]
  },
  {
   "cell_type": "code",
   "execution_count": 7,
   "id": "b3b77c36",
   "metadata": {},
   "outputs": [
    {
     "name": "stdout",
     "output_type": "stream",
     "text": [
      "                                           model_name  model_year  \\\n",
      "7857                              KTM Duke 200cc 2012        2012   \n",
      "7858                          Bajaj Pulsar 180cc 2016        2016   \n",
      "7859  TVS Apache RTR 200 4V Dual Channel ABS BS6 2020        2020   \n",
      "7860                              KTM Duke 390cc 2018        2018   \n",
      "7861                           Yamaha FZ16 150cc 2014        2014   \n",
      "...                                               ...         ...   \n",
      "8068                        Yamaha YZF-R15 150cc 2016        2016   \n",
      "8069             Royal Enfield Thunderbird 350cc 2018        2018   \n",
      "8070                 Royal Enfield Classic 350cc 2019        2019   \n",
      "8071    Royal Enfield Himalayan 410cc Fi ABS BS6 2020        2020   \n",
      "8072                      Mahindra Centuro 110cc 2014        2014   \n",
      "\n",
      "           kms_driven        owner   location        mileage      power  \\\n",
      "7857         24561 Km  third owner  bangalore   \\n\\n 35 kmpl     25 bhp   \n",
      "7858         19718 Km  first owner  bangalore   \\n\\n 65 kmpl     17 bhp   \n",
      "7859  Mileage 40 Kmpl  first owner  hyderabad   \\n\\n 40 Kmpl  20.21 bhp   \n",
      "7860          1350 Km  first owner     jaipur   \\n\\n 25 kmpl  42.90 bhp   \n",
      "7861  Mileage 58 Kmpl  first owner  bangalore   \\n\\n 58 Kmpl     13 bhp   \n",
      "...               ...          ...        ...            ...        ...   \n",
      "8068         18000 Km  first owner     ambala   \\n\\n 42 kmpl     16 bhp   \n",
      "8069          4000 Km  first owner  jalandhar   \\n\\n 40 kmpl  19.80 bhp   \n",
      "8070         12000 Km  first owner      delhi   \\n\\n 35 kmpl  19.80 bhp   \n",
      "8071          3000 Km  first owner      delhi   \\n\\n 32 kmpl   24.3 bhp   \n",
      "8072         38000 Km  first owner  hyderabad  \\n\\n  60 kmpl    8.5 Bhp   \n",
      "\n",
      "       price  \n",
      "7857   63400  \n",
      "7858   55000  \n",
      "7859  120000  \n",
      "7860  198000  \n",
      "7861   40000  \n",
      "...      ...  \n",
      "8068   65000  \n",
      "8069  150000  \n",
      "8070  162000  \n",
      "8071  210000  \n",
      "8072   33000  \n",
      "\n",
      "[213 rows x 8 columns]\n"
     ]
    }
   ],
   "source": [
    "duplicates = df[df.duplicated()]\n",
    "print(duplicates)"
   ]
  },
  {
   "cell_type": "code",
   "execution_count": 8,
   "id": "35264951",
   "metadata": {},
   "outputs": [],
   "source": [
    "df.drop_duplicates(inplace=True)"
   ]
  },
  {
   "cell_type": "code",
   "execution_count": 9,
   "id": "99a17e3c",
   "metadata": {},
   "outputs": [
    {
     "name": "stdout",
     "output_type": "stream",
     "text": [
      "Empty DataFrame\n",
      "Columns: [model_name, model_year, kms_driven, owner, location, mileage, power, price]\n",
      "Index: []\n"
     ]
    }
   ],
   "source": [
    "duplicates = df[df.duplicated()]\n",
    "print(duplicates)"
   ]
  },
  {
   "cell_type": "markdown",
   "id": "07cef5e8",
   "metadata": {},
   "source": [
    "# Remove Mileage|Kmpl from kms_driven column "
   ]
  },
  {
   "cell_type": "code",
   "execution_count": 10,
   "id": "0196ab15",
   "metadata": {},
   "outputs": [
    {
     "name": "stdout",
     "output_type": "stream",
     "text": [
      "1980\n"
     ]
    }
   ],
   "source": [
    "count = df['kms_driven'].str.contains('Mileage|Kmpl', case=False).sum()\n",
    "print(count)"
   ]
  },
  {
   "cell_type": "code",
   "execution_count": 11,
   "id": "d52ca5ae",
   "metadata": {},
   "outputs": [],
   "source": [
    "df.drop(df[df['kms_driven'].str.contains('Mileage|Kmpl', case=False)].index, inplace=True)"
   ]
  },
  {
   "cell_type": "code",
   "execution_count": 12,
   "id": "795b2f86",
   "metadata": {},
   "outputs": [
    {
     "name": "stdout",
     "output_type": "stream",
     "text": [
      "0\n"
     ]
    }
   ],
   "source": [
    "count = df['kms_driven'].str.contains('Mileage|Kmpl', case=False).sum()\n",
    "print(count)"
   ]
  },
  {
   "cell_type": "code",
   "execution_count": 13,
   "id": "8603f0e1",
   "metadata": {
    "scrolled": true
   },
   "outputs": [
    {
     "data": {
      "text/html": [
       "<div>\n",
       "<style scoped>\n",
       "    .dataframe tbody tr th:only-of-type {\n",
       "        vertical-align: middle;\n",
       "    }\n",
       "\n",
       "    .dataframe tbody tr th {\n",
       "        vertical-align: top;\n",
       "    }\n",
       "\n",
       "    .dataframe thead th {\n",
       "        text-align: right;\n",
       "    }\n",
       "</style>\n",
       "<table border=\"1\" class=\"dataframe\">\n",
       "  <thead>\n",
       "    <tr style=\"text-align: right;\">\n",
       "      <th></th>\n",
       "      <th>model_name</th>\n",
       "      <th>model_year</th>\n",
       "      <th>kms_driven</th>\n",
       "      <th>owner</th>\n",
       "      <th>location</th>\n",
       "      <th>mileage</th>\n",
       "      <th>power</th>\n",
       "      <th>price</th>\n",
       "    </tr>\n",
       "  </thead>\n",
       "  <tbody>\n",
       "    <tr>\n",
       "      <th>0</th>\n",
       "      <td>Bajaj Avenger Cruise 220 2017</td>\n",
       "      <td>2017</td>\n",
       "      <td>17000 Km</td>\n",
       "      <td>first owner</td>\n",
       "      <td>hyderabad</td>\n",
       "      <td>\\n\\n 35 kmpl</td>\n",
       "      <td>19 bhp</td>\n",
       "      <td>63500</td>\n",
       "    </tr>\n",
       "    <tr>\n",
       "      <th>1</th>\n",
       "      <td>Royal Enfield Classic 350cc 2016</td>\n",
       "      <td>2016</td>\n",
       "      <td>50000 Km</td>\n",
       "      <td>first owner</td>\n",
       "      <td>hyderabad</td>\n",
       "      <td>\\n\\n 35 kmpl</td>\n",
       "      <td>19.80 bhp</td>\n",
       "      <td>115000</td>\n",
       "    </tr>\n",
       "    <tr>\n",
       "      <th>2</th>\n",
       "      <td>Hyosung GT250R 2012</td>\n",
       "      <td>2012</td>\n",
       "      <td>14795 Km</td>\n",
       "      <td>first owner</td>\n",
       "      <td>hyderabad</td>\n",
       "      <td>\\n\\n 30 kmpl</td>\n",
       "      <td>28 bhp</td>\n",
       "      <td>300000</td>\n",
       "    </tr>\n",
       "    <tr>\n",
       "      <th>4</th>\n",
       "      <td>Jawa Perak 330cc 2020</td>\n",
       "      <td>2020</td>\n",
       "      <td>2000 Km</td>\n",
       "      <td>first owner</td>\n",
       "      <td>bangalore</td>\n",
       "      <td>\\n\\n</td>\n",
       "      <td>30 bhp</td>\n",
       "      <td>197500</td>\n",
       "    </tr>\n",
       "    <tr>\n",
       "      <th>5</th>\n",
       "      <td>KTM Duke 200cc 2012</td>\n",
       "      <td>2012</td>\n",
       "      <td>24561 Km</td>\n",
       "      <td>third owner</td>\n",
       "      <td>bangalore</td>\n",
       "      <td>\\n\\n 35 kmpl</td>\n",
       "      <td>25 bhp</td>\n",
       "      <td>63400</td>\n",
       "    </tr>\n",
       "    <tr>\n",
       "      <th>...</th>\n",
       "      <td>...</td>\n",
       "      <td>...</td>\n",
       "      <td>...</td>\n",
       "      <td>...</td>\n",
       "      <td>...</td>\n",
       "      <td>...</td>\n",
       "      <td>...</td>\n",
       "      <td>...</td>\n",
       "    </tr>\n",
       "    <tr>\n",
       "      <th>7850</th>\n",
       "      <td>TVS Apache RTR 160 4V Carburetor With Rear Dis...</td>\n",
       "      <td>2018</td>\n",
       "      <td>16510 Km</td>\n",
       "      <td>first owner</td>\n",
       "      <td>ahmedabad</td>\n",
       "      <td>\\n\\n</td>\n",
       "      <td>16.10 bhp</td>\n",
       "      <td>60000</td>\n",
       "    </tr>\n",
       "    <tr>\n",
       "      <th>7852</th>\n",
       "      <td>Yamaha YZF-R15 150cc 2011</td>\n",
       "      <td>2011</td>\n",
       "      <td>7000 Km</td>\n",
       "      <td>first owner</td>\n",
       "      <td>agra</td>\n",
       "      <td>\\n\\n 42 kmpl</td>\n",
       "      <td>16 bhp</td>\n",
       "      <td>55000</td>\n",
       "    </tr>\n",
       "    <tr>\n",
       "      <th>7854</th>\n",
       "      <td>Bajaj Pulsar 180cc 2016</td>\n",
       "      <td>2016</td>\n",
       "      <td>6407 Km</td>\n",
       "      <td>first owner</td>\n",
       "      <td>bangalore</td>\n",
       "      <td>\\n\\n 65 kmpl</td>\n",
       "      <td>17 bhp</td>\n",
       "      <td>61740</td>\n",
       "    </tr>\n",
       "    <tr>\n",
       "      <th>7855</th>\n",
       "      <td>Bajaj V15 150cc 2016</td>\n",
       "      <td>2016</td>\n",
       "      <td>7524 Km</td>\n",
       "      <td>first owner</td>\n",
       "      <td>bangalore</td>\n",
       "      <td>\\n\\n 57 kmpl</td>\n",
       "      <td>11.80 bhp</td>\n",
       "      <td>49000</td>\n",
       "    </tr>\n",
       "    <tr>\n",
       "      <th>7856</th>\n",
       "      <td>Bajaj Pulsar 220cc 2016</td>\n",
       "      <td>2016</td>\n",
       "      <td>15000 Km</td>\n",
       "      <td>first owner</td>\n",
       "      <td>chennai</td>\n",
       "      <td>\\n\\n 38 kmpl</td>\n",
       "      <td>21 bhp</td>\n",
       "      <td>65000</td>\n",
       "    </tr>\n",
       "  </tbody>\n",
       "</table>\n",
       "<p>5816 rows × 8 columns</p>\n",
       "</div>"
      ],
      "text/plain": [
       "                                             model_name  model_year  \\\n",
       "0                         Bajaj Avenger Cruise 220 2017        2017   \n",
       "1                      Royal Enfield Classic 350cc 2016        2016   \n",
       "2                                   Hyosung GT250R 2012        2012   \n",
       "4                                 Jawa Perak 330cc 2020        2020   \n",
       "5                                   KTM Duke 200cc 2012        2012   \n",
       "...                                                 ...         ...   \n",
       "7850  TVS Apache RTR 160 4V Carburetor With Rear Dis...        2018   \n",
       "7852                          Yamaha YZF-R15 150cc 2011        2011   \n",
       "7854                            Bajaj Pulsar 180cc 2016        2016   \n",
       "7855                               Bajaj V15 150cc 2016        2016   \n",
       "7856                            Bajaj Pulsar 220cc 2016        2016   \n",
       "\n",
       "     kms_driven        owner   location       mileage      power   price  \n",
       "0      17000 Km  first owner  hyderabad  \\n\\n 35 kmpl     19 bhp   63500  \n",
       "1      50000 Km  first owner  hyderabad  \\n\\n 35 kmpl  19.80 bhp  115000  \n",
       "2      14795 Km  first owner  hyderabad  \\n\\n 30 kmpl     28 bhp  300000  \n",
       "4       2000 Km  first owner  bangalore         \\n\\n      30 bhp  197500  \n",
       "5      24561 Km  third owner  bangalore  \\n\\n 35 kmpl     25 bhp   63400  \n",
       "...         ...          ...        ...           ...        ...     ...  \n",
       "7850   16510 Km  first owner  ahmedabad         \\n\\n   16.10 bhp   60000  \n",
       "7852    7000 Km  first owner       agra  \\n\\n 42 kmpl     16 bhp   55000  \n",
       "7854    6407 Km  first owner  bangalore  \\n\\n 65 kmpl     17 bhp   61740  \n",
       "7855    7524 Km  first owner  bangalore  \\n\\n 57 kmpl  11.80 bhp   49000  \n",
       "7856   15000 Km  first owner    chennai  \\n\\n 38 kmpl     21 bhp   65000  \n",
       "\n",
       "[5816 rows x 8 columns]"
      ]
     },
     "execution_count": 13,
     "metadata": {},
     "output_type": "execute_result"
    }
   ],
   "source": [
    "df"
   ]
  },
  {
   "cell_type": "markdown",
   "id": "14fdb47a",
   "metadata": {},
   "source": [
    "# Making box plot"
   ]
  },
  {
   "cell_type": "code",
   "execution_count": 14,
   "id": "03101869",
   "metadata": {},
   "outputs": [
    {
     "data": {
      "image/png": "[encoded data removed]",
      "text/plain": [
       "<Figure size 640x480 with 1 Axes>"
      ]
     },
     "metadata": {},
     "output_type": "display_data"
    }
   ],
   "source": [
    "plt.scatter(df['price'],df['kms_driven'])\n",
    "plt.ylabel('price')\n",
    "plt.xlabel('kms_driven')\n",
    "plt.show()"
   ]
  },
  {
   "cell_type": "code",
   "execution_count": 15,
   "id": "a8ed93c1",
   "metadata": {},
   "outputs": [
    {
     "data": {
      "text/plain": [
       "model_name    object\n",
       "model_year     int64\n",
       "kms_driven    object\n",
       "owner         object\n",
       "location      object\n",
       "mileage       object\n",
       "power         object\n",
       "price          int64\n",
       "dtype: object"
      ]
     },
     "execution_count": 15,
     "metadata": {},
     "output_type": "execute_result"
    }
   ],
   "source": [
    "df.dtypes"
   ]
  },
  {
   "cell_type": "markdown",
   "id": "7fc3ab6c",
   "metadata": {},
   "source": [
    "# Calculate num of rows that contain numeric and char"
   ]
  },
  {
   "cell_type": "code",
   "execution_count": 16,
   "id": "9737142e",
   "metadata": {
    "scrolled": true
   },
   "outputs": [
    {
     "name": "stdout",
     "output_type": "stream",
     "text": [
      "4975\n"
     ]
    }
   ],
   "source": [
    "count = df['power'].str.contains('bhp', na=False).sum()\n",
    "print(count)"
   ]
  },
  {
   "cell_type": "code",
   "execution_count": 17,
   "id": "a37e5374",
   "metadata": {},
   "outputs": [],
   "source": [
    "df['power'] = df['power'].str.replace('bhp', '').str.strip()"
   ]
  },
  {
   "cell_type": "code",
   "execution_count": 18,
   "id": "904336ed",
   "metadata": {},
   "outputs": [
    {
     "name": "stdout",
     "output_type": "stream",
     "text": [
      "468\n"
     ]
    }
   ],
   "source": [
    "count = df['power'].str.contains('Bhp', na=False).sum()\n",
    "print(count)"
   ]
  },
  {
   "cell_type": "code",
   "execution_count": 19,
   "id": "19bb96a0",
   "metadata": {},
   "outputs": [],
   "source": [
    "df['power'] = df['power'].str.replace('Bhp', '').str.strip()"
   ]
  },
  {
   "cell_type": "code",
   "execution_count": 20,
   "id": "53bc1302",
   "metadata": {},
   "outputs": [
    {
     "name": "stdout",
     "output_type": "stream",
     "text": [
      "373\n"
     ]
    }
   ],
   "source": [
    "\n",
    "\n",
    "def try_to_float(x):\n",
    "    try:\n",
    "        float(x)\n",
    "        return False\n",
    "    except ValueError:\n",
    "        return True\n",
    "\n",
    "count = df['power'].apply(try_to_float).sum()\n",
    "print(count)"
   ]
  },
  {
   "cell_type": "code",
   "execution_count": 21,
   "id": "2fa046ce",
   "metadata": {},
   "outputs": [],
   "source": [
    "df['power'] = pd.to_numeric(df['power'], errors='coerce')\n",
    "df.dropna(subset=['power'], inplace=True)"
   ]
  },
  {
   "cell_type": "markdown",
   "id": "5d065253",
   "metadata": {},
   "source": [
    "# Rename column power"
   ]
  },
  {
   "cell_type": "code",
   "execution_count": 22,
   "id": "f85af537",
   "metadata": {},
   "outputs": [],
   "source": [
    "df.rename(columns={'power': 'Power_bhp'}, inplace=True)"
   ]
  },
  {
   "cell_type": "code",
   "execution_count": 23,
   "id": "c7535fbf",
   "metadata": {},
   "outputs": [
    {
     "data": {
      "text/html": [
       "<div>\n",
       "<style scoped>\n",
       "    .dataframe tbody tr th:only-of-type {\n",
       "        vertical-align: middle;\n",
       "    }\n",
       "\n",
       "    .dataframe tbody tr th {\n",
       "        vertical-align: top;\n",
       "    }\n",
       "\n",
       "    .dataframe thead th {\n",
       "        text-align: right;\n",
       "    }\n",
       "</style>\n",
       "<table border=\"1\" class=\"dataframe\">\n",
       "  <thead>\n",
       "    <tr style=\"text-align: right;\">\n",
       "      <th></th>\n",
       "      <th>model_name</th>\n",
       "      <th>model_year</th>\n",
       "      <th>kms_driven</th>\n",
       "      <th>owner</th>\n",
       "      <th>location</th>\n",
       "      <th>mileage</th>\n",
       "      <th>Power_bhp</th>\n",
       "      <th>price</th>\n",
       "    </tr>\n",
       "  </thead>\n",
       "  <tbody>\n",
       "    <tr>\n",
       "      <th>0</th>\n",
       "      <td>Bajaj Avenger Cruise 220 2017</td>\n",
       "      <td>2017</td>\n",
       "      <td>17000 Km</td>\n",
       "      <td>first owner</td>\n",
       "      <td>hyderabad</td>\n",
       "      <td>\\n\\n 35 kmpl</td>\n",
       "      <td>19.0</td>\n",
       "      <td>63500</td>\n",
       "    </tr>\n",
       "    <tr>\n",
       "      <th>1</th>\n",
       "      <td>Royal Enfield Classic 350cc 2016</td>\n",
       "      <td>2016</td>\n",
       "      <td>50000 Km</td>\n",
       "      <td>first owner</td>\n",
       "      <td>hyderabad</td>\n",
       "      <td>\\n\\n 35 kmpl</td>\n",
       "      <td>19.8</td>\n",
       "      <td>115000</td>\n",
       "    </tr>\n",
       "    <tr>\n",
       "      <th>2</th>\n",
       "      <td>Hyosung GT250R 2012</td>\n",
       "      <td>2012</td>\n",
       "      <td>14795 Km</td>\n",
       "      <td>first owner</td>\n",
       "      <td>hyderabad</td>\n",
       "      <td>\\n\\n 30 kmpl</td>\n",
       "      <td>28.0</td>\n",
       "      <td>300000</td>\n",
       "    </tr>\n",
       "    <tr>\n",
       "      <th>4</th>\n",
       "      <td>Jawa Perak 330cc 2020</td>\n",
       "      <td>2020</td>\n",
       "      <td>2000 Km</td>\n",
       "      <td>first owner</td>\n",
       "      <td>bangalore</td>\n",
       "      <td>\\n\\n</td>\n",
       "      <td>30.0</td>\n",
       "      <td>197500</td>\n",
       "    </tr>\n",
       "    <tr>\n",
       "      <th>5</th>\n",
       "      <td>KTM Duke 200cc 2012</td>\n",
       "      <td>2012</td>\n",
       "      <td>24561 Km</td>\n",
       "      <td>third owner</td>\n",
       "      <td>bangalore</td>\n",
       "      <td>\\n\\n 35 kmpl</td>\n",
       "      <td>25.0</td>\n",
       "      <td>63400</td>\n",
       "    </tr>\n",
       "    <tr>\n",
       "      <th>...</th>\n",
       "      <td>...</td>\n",
       "      <td>...</td>\n",
       "      <td>...</td>\n",
       "      <td>...</td>\n",
       "      <td>...</td>\n",
       "      <td>...</td>\n",
       "      <td>...</td>\n",
       "      <td>...</td>\n",
       "    </tr>\n",
       "    <tr>\n",
       "      <th>7850</th>\n",
       "      <td>TVS Apache RTR 160 4V Carburetor With Rear Dis...</td>\n",
       "      <td>2018</td>\n",
       "      <td>16510 Km</td>\n",
       "      <td>first owner</td>\n",
       "      <td>ahmedabad</td>\n",
       "      <td>\\n\\n</td>\n",
       "      <td>16.1</td>\n",
       "      <td>60000</td>\n",
       "    </tr>\n",
       "    <tr>\n",
       "      <th>7852</th>\n",
       "      <td>Yamaha YZF-R15 150cc 2011</td>\n",
       "      <td>2011</td>\n",
       "      <td>7000 Km</td>\n",
       "      <td>first owner</td>\n",
       "      <td>agra</td>\n",
       "      <td>\\n\\n 42 kmpl</td>\n",
       "      <td>16.0</td>\n",
       "      <td>55000</td>\n",
       "    </tr>\n",
       "    <tr>\n",
       "      <th>7854</th>\n",
       "      <td>Bajaj Pulsar 180cc 2016</td>\n",
       "      <td>2016</td>\n",
       "      <td>6407 Km</td>\n",
       "      <td>first owner</td>\n",
       "      <td>bangalore</td>\n",
       "      <td>\\n\\n 65 kmpl</td>\n",
       "      <td>17.0</td>\n",
       "      <td>61740</td>\n",
       "    </tr>\n",
       "    <tr>\n",
       "      <th>7855</th>\n",
       "      <td>Bajaj V15 150cc 2016</td>\n",
       "      <td>2016</td>\n",
       "      <td>7524 Km</td>\n",
       "      <td>first owner</td>\n",
       "      <td>bangalore</td>\n",
       "      <td>\\n\\n 57 kmpl</td>\n",
       "      <td>11.8</td>\n",
       "      <td>49000</td>\n",
       "    </tr>\n",
       "    <tr>\n",
       "      <th>7856</th>\n",
       "      <td>Bajaj Pulsar 220cc 2016</td>\n",
       "      <td>2016</td>\n",
       "      <td>15000 Km</td>\n",
       "      <td>first owner</td>\n",
       "      <td>chennai</td>\n",
       "      <td>\\n\\n 38 kmpl</td>\n",
       "      <td>21.0</td>\n",
       "      <td>65000</td>\n",
       "    </tr>\n",
       "  </tbody>\n",
       "</table>\n",
       "<p>5443 rows × 8 columns</p>\n",
       "</div>"
      ],
      "text/plain": [
       "                                             model_name  model_year  \\\n",
       "0                         Bajaj Avenger Cruise 220 2017        2017   \n",
       "1                      Royal Enfield Classic 350cc 2016        2016   \n",
       "2                                   Hyosung GT250R 2012        2012   \n",
       "4                                 Jawa Perak 330cc 2020        2020   \n",
       "5                                   KTM Duke 200cc 2012        2012   \n",
       "...                                                 ...         ...   \n",
       "7850  TVS Apache RTR 160 4V Carburetor With Rear Dis...        2018   \n",
       "7852                          Yamaha YZF-R15 150cc 2011        2011   \n",
       "7854                            Bajaj Pulsar 180cc 2016        2016   \n",
       "7855                               Bajaj V15 150cc 2016        2016   \n",
       "7856                            Bajaj Pulsar 220cc 2016        2016   \n",
       "\n",
       "     kms_driven        owner   location       mileage  Power_bhp   price  \n",
       "0      17000 Km  first owner  hyderabad  \\n\\n 35 kmpl       19.0   63500  \n",
       "1      50000 Km  first owner  hyderabad  \\n\\n 35 kmpl       19.8  115000  \n",
       "2      14795 Km  first owner  hyderabad  \\n\\n 30 kmpl       28.0  300000  \n",
       "4       2000 Km  first owner  bangalore         \\n\\n        30.0  197500  \n",
       "5      24561 Km  third owner  bangalore  \\n\\n 35 kmpl       25.0   63400  \n",
       "...         ...          ...        ...           ...        ...     ...  \n",
       "7850   16510 Km  first owner  ahmedabad         \\n\\n        16.1   60000  \n",
       "7852    7000 Km  first owner       agra  \\n\\n 42 kmpl       16.0   55000  \n",
       "7854    6407 Km  first owner  bangalore  \\n\\n 65 kmpl       17.0   61740  \n",
       "7855    7524 Km  first owner  bangalore  \\n\\n 57 kmpl       11.8   49000  \n",
       "7856   15000 Km  first owner    chennai  \\n\\n 38 kmpl       21.0   65000  \n",
       "\n",
       "[5443 rows x 8 columns]"
      ]
     },
     "execution_count": 23,
     "metadata": {},
     "output_type": "execute_result"
    }
   ],
   "source": [
    "df"
   ]
  },
  {
   "cell_type": "markdown",
   "id": "cdcdeded",
   "metadata": {},
   "source": [
    "# remove Unit from columns and convert into numeric"
   ]
  },
  {
   "cell_type": "code",
   "execution_count": 24,
   "id": "e5fc9625",
   "metadata": {},
   "outputs": [
    {
     "name": "stderr",
     "output_type": "stream",
     "text": [
      "C:\\Users\\kemst\\AppData\\Local\\Temp\\ipykernel_13596\\3888049010.py:1: FutureWarning: The default value of regex will change from True to False in a future version.\n",
      "  df['mileage'] = df['mileage'].str.replace(r'\\D', '')\n"
     ]
    }
   ],
   "source": [
    "df['mileage'] = df['mileage'].str.replace(r'\\D', '')\n",
    "df['mileage'] = pd.to_numeric(df['mileage'])"
   ]
  },
  {
   "cell_type": "code",
   "execution_count": 25,
   "id": "09a00729",
   "metadata": {},
   "outputs": [
    {
     "data": {
      "text/html": [
       "<div>\n",
       "<style scoped>\n",
       "    .dataframe tbody tr th:only-of-type {\n",
       "        vertical-align: middle;\n",
       "    }\n",
       "\n",
       "    .dataframe tbody tr th {\n",
       "        vertical-align: top;\n",
       "    }\n",
       "\n",
       "    .dataframe thead th {\n",
       "        text-align: right;\n",
       "    }\n",
       "</style>\n",
       "<table border=\"1\" class=\"dataframe\">\n",
       "  <thead>\n",
       "    <tr style=\"text-align: right;\">\n",
       "      <th></th>\n",
       "      <th>model_name</th>\n",
       "      <th>model_year</th>\n",
       "      <th>kms_driven</th>\n",
       "      <th>owner</th>\n",
       "      <th>location</th>\n",
       "      <th>mileage</th>\n",
       "      <th>Power_bhp</th>\n",
       "      <th>price</th>\n",
       "    </tr>\n",
       "  </thead>\n",
       "  <tbody>\n",
       "    <tr>\n",
       "      <th>0</th>\n",
       "      <td>Bajaj Avenger Cruise 220 2017</td>\n",
       "      <td>2017</td>\n",
       "      <td>17000 Km</td>\n",
       "      <td>first owner</td>\n",
       "      <td>hyderabad</td>\n",
       "      <td>35.0</td>\n",
       "      <td>19.0</td>\n",
       "      <td>63500</td>\n",
       "    </tr>\n",
       "    <tr>\n",
       "      <th>1</th>\n",
       "      <td>Royal Enfield Classic 350cc 2016</td>\n",
       "      <td>2016</td>\n",
       "      <td>50000 Km</td>\n",
       "      <td>first owner</td>\n",
       "      <td>hyderabad</td>\n",
       "      <td>35.0</td>\n",
       "      <td>19.8</td>\n",
       "      <td>115000</td>\n",
       "    </tr>\n",
       "    <tr>\n",
       "      <th>2</th>\n",
       "      <td>Hyosung GT250R 2012</td>\n",
       "      <td>2012</td>\n",
       "      <td>14795 Km</td>\n",
       "      <td>first owner</td>\n",
       "      <td>hyderabad</td>\n",
       "      <td>30.0</td>\n",
       "      <td>28.0</td>\n",
       "      <td>300000</td>\n",
       "    </tr>\n",
       "    <tr>\n",
       "      <th>4</th>\n",
       "      <td>Jawa Perak 330cc 2020</td>\n",
       "      <td>2020</td>\n",
       "      <td>2000 Km</td>\n",
       "      <td>first owner</td>\n",
       "      <td>bangalore</td>\n",
       "      <td>NaN</td>\n",
       "      <td>30.0</td>\n",
       "      <td>197500</td>\n",
       "    </tr>\n",
       "    <tr>\n",
       "      <th>5</th>\n",
       "      <td>KTM Duke 200cc 2012</td>\n",
       "      <td>2012</td>\n",
       "      <td>24561 Km</td>\n",
       "      <td>third owner</td>\n",
       "      <td>bangalore</td>\n",
       "      <td>35.0</td>\n",
       "      <td>25.0</td>\n",
       "      <td>63400</td>\n",
       "    </tr>\n",
       "    <tr>\n",
       "      <th>...</th>\n",
       "      <td>...</td>\n",
       "      <td>...</td>\n",
       "      <td>...</td>\n",
       "      <td>...</td>\n",
       "      <td>...</td>\n",
       "      <td>...</td>\n",
       "      <td>...</td>\n",
       "      <td>...</td>\n",
       "    </tr>\n",
       "    <tr>\n",
       "      <th>7850</th>\n",
       "      <td>TVS Apache RTR 160 4V Carburetor With Rear Dis...</td>\n",
       "      <td>2018</td>\n",
       "      <td>16510 Km</td>\n",
       "      <td>first owner</td>\n",
       "      <td>ahmedabad</td>\n",
       "      <td>NaN</td>\n",
       "      <td>16.1</td>\n",
       "      <td>60000</td>\n",
       "    </tr>\n",
       "    <tr>\n",
       "      <th>7852</th>\n",
       "      <td>Yamaha YZF-R15 150cc 2011</td>\n",
       "      <td>2011</td>\n",
       "      <td>7000 Km</td>\n",
       "      <td>first owner</td>\n",
       "      <td>agra</td>\n",
       "      <td>42.0</td>\n",
       "      <td>16.0</td>\n",
       "      <td>55000</td>\n",
       "    </tr>\n",
       "    <tr>\n",
       "      <th>7854</th>\n",
       "      <td>Bajaj Pulsar 180cc 2016</td>\n",
       "      <td>2016</td>\n",
       "      <td>6407 Km</td>\n",
       "      <td>first owner</td>\n",
       "      <td>bangalore</td>\n",
       "      <td>65.0</td>\n",
       "      <td>17.0</td>\n",
       "      <td>61740</td>\n",
       "    </tr>\n",
       "    <tr>\n",
       "      <th>7855</th>\n",
       "      <td>Bajaj V15 150cc 2016</td>\n",
       "      <td>2016</td>\n",
       "      <td>7524 Km</td>\n",
       "      <td>first owner</td>\n",
       "      <td>bangalore</td>\n",
       "      <td>57.0</td>\n",
       "      <td>11.8</td>\n",
       "      <td>49000</td>\n",
       "    </tr>\n",
       "    <tr>\n",
       "      <th>7856</th>\n",
       "      <td>Bajaj Pulsar 220cc 2016</td>\n",
       "      <td>2016</td>\n",
       "      <td>15000 Km</td>\n",
       "      <td>first owner</td>\n",
       "      <td>chennai</td>\n",
       "      <td>38.0</td>\n",
       "      <td>21.0</td>\n",
       "      <td>65000</td>\n",
       "    </tr>\n",
       "  </tbody>\n",
       "</table>\n",
       "<p>5443 rows × 8 columns</p>\n",
       "</div>"
      ],
      "text/plain": [
       "                                             model_name  model_year  \\\n",
       "0                         Bajaj Avenger Cruise 220 2017        2017   \n",
       "1                      Royal Enfield Classic 350cc 2016        2016   \n",
       "2                                   Hyosung GT250R 2012        2012   \n",
       "4                                 Jawa Perak 330cc 2020        2020   \n",
       "5                                   KTM Duke 200cc 2012        2012   \n",
       "...                                                 ...         ...   \n",
       "7850  TVS Apache RTR 160 4V Carburetor With Rear Dis...        2018   \n",
       "7852                          Yamaha YZF-R15 150cc 2011        2011   \n",
       "7854                            Bajaj Pulsar 180cc 2016        2016   \n",
       "7855                               Bajaj V15 150cc 2016        2016   \n",
       "7856                            Bajaj Pulsar 220cc 2016        2016   \n",
       "\n",
       "     kms_driven        owner   location  mileage  Power_bhp   price  \n",
       "0      17000 Km  first owner  hyderabad     35.0       19.0   63500  \n",
       "1      50000 Km  first owner  hyderabad     35.0       19.8  115000  \n",
       "2      14795 Km  first owner  hyderabad     30.0       28.0  300000  \n",
       "4       2000 Km  first owner  bangalore      NaN       30.0  197500  \n",
       "5      24561 Km  third owner  bangalore     35.0       25.0   63400  \n",
       "...         ...          ...        ...      ...        ...     ...  \n",
       "7850   16510 Km  first owner  ahmedabad      NaN       16.1   60000  \n",
       "7852    7000 Km  first owner       agra     42.0       16.0   55000  \n",
       "7854    6407 Km  first owner  bangalore     65.0       17.0   61740  \n",
       "7855    7524 Km  first owner  bangalore     57.0       11.8   49000  \n",
       "7856   15000 Km  first owner    chennai     38.0       21.0   65000  \n",
       "\n",
       "[5443 rows x 8 columns]"
      ]
     },
     "execution_count": 25,
     "metadata": {},
     "output_type": "execute_result"
    }
   ],
   "source": [
    "df"
   ]
  },
  {
   "cell_type": "code",
   "execution_count": 26,
   "id": "5f86085d",
   "metadata": {},
   "outputs": [
    {
     "name": "stderr",
     "output_type": "stream",
     "text": [
      "C:\\Users\\kemst\\AppData\\Local\\Temp\\ipykernel_13596\\1870475286.py:1: FutureWarning: The default value of regex will change from True to False in a future version.\n",
      "  df['kms_driven'] = df['kms_driven'].str.replace(r' ?', '')\n",
      "C:\\Users\\kemst\\AppData\\Local\\Temp\\ipykernel_13596\\1870475286.py:2: FutureWarning: The default value of regex will change from True to False in a future version.\n",
      "  df['kms_driven'] = df['kms_driven'].str.replace(r'km?', '')\n",
      "C:\\Users\\kemst\\AppData\\Local\\Temp\\ipykernel_13596\\1870475286.py:3: FutureWarning: The default value of regex will change from True to False in a future version.\n",
      "  df['kms_driven'] = df['kms_driven'].str.replace(r'Km?', '')\n",
      "C:\\Users\\kemst\\AppData\\Local\\Temp\\ipykernel_13596\\1870475286.py:4: FutureWarning: The default value of regex will change from True to False in a future version.\n",
      "  df['kms_driven'] = df['kms_driven'].str.replace(r'Yes?', '')\n"
     ]
    }
   ],
   "source": [
    "df['kms_driven'] = df['kms_driven'].str.replace(r' ?', '')\n",
    "df['kms_driven'] = df['kms_driven'].str.replace(r'km?', '')\n",
    "df['kms_driven'] = df['kms_driven'].str.replace(r'Km?', '')\n",
    "df['kms_driven'] = df['kms_driven'].str.replace(r'Yes?', '')\n",
    "df['kms_driven'] = pd.to_numeric(df['kms_driven'])"
   ]
  },
  {
   "cell_type": "code",
   "execution_count": 27,
   "id": "40d26d62",
   "metadata": {},
   "outputs": [
    {
     "data": {
      "text/plain": [
       "array(['first owner', 'third owner', 'second owner',\n",
       "       'fourth owner or more'], dtype=object)"
      ]
     },
     "execution_count": 27,
     "metadata": {},
     "output_type": "execute_result"
    }
   ],
   "source": [
    "df['owner'].unique()"
   ]
  },
  {
   "cell_type": "code",
   "execution_count": 28,
   "id": "1c18bd7f",
   "metadata": {},
   "outputs": [],
   "source": [
    "owner_map = {\n",
    "    'first owner': 1,\n",
    "    'second owner': 2,\n",
    "    'third owner': 3,\n",
    "    'fourth owner or more': 4\n",
    "}\n",
    "\n",
    "df['owner'] = df['owner'].replace(owner_map)\n",
    "df['owner'] = pd.to_numeric(df['owner'])"
   ]
  },
  {
   "cell_type": "code",
   "execution_count": 29,
   "id": "6c24cb78",
   "metadata": {},
   "outputs": [
    {
     "data": {
      "text/plain": [
       "model_name     object\n",
       "model_year      int64\n",
       "kms_driven    float64\n",
       "owner           int64\n",
       "location       object\n",
       "mileage       float64\n",
       "Power_bhp     float64\n",
       "price           int64\n",
       "dtype: object"
      ]
     },
     "execution_count": 29,
     "metadata": {},
     "output_type": "execute_result"
    }
   ],
   "source": [
    "df.dtypes"
   ]
  },
  {
   "cell_type": "code",
   "execution_count": 30,
   "id": "d8edeef5",
   "metadata": {},
   "outputs": [
    {
     "data": {
      "text/plain": [
       "(5443, 8)"
      ]
     },
     "execution_count": 30,
     "metadata": {},
     "output_type": "execute_result"
    }
   ],
   "source": [
    "df.shape"
   ]
  },
  {
   "cell_type": "markdown",
   "id": "91c16da1",
   "metadata": {},
   "source": [
    "# Drop missing values"
   ]
  },
  {
   "cell_type": "code",
   "execution_count": 31,
   "id": "f0e83a6e",
   "metadata": {},
   "outputs": [],
   "source": [
    "df.dropna(inplace=True)"
   ]
  },
  {
   "cell_type": "code",
   "execution_count": 32,
   "id": "9a92f9f9",
   "metadata": {},
   "outputs": [
    {
     "name": "stdout",
     "output_type": "stream",
     "text": [
      "model_name    0\n",
      "model_year    0\n",
      "kms_driven    0\n",
      "owner         0\n",
      "location      0\n",
      "mileage       0\n",
      "Power_bhp     0\n",
      "price         0\n",
      "dtype: int64\n"
     ]
    }
   ],
   "source": [
    "\n",
    "null_values = df.isnull().sum()\n",
    "\n",
    "print(null_values)"
   ]
  },
  {
   "cell_type": "code",
   "execution_count": 33,
   "id": "224d9bb5",
   "metadata": {},
   "outputs": [
    {
     "data": {
      "text/plain": [
       "model_name     object\n",
       "model_year      int64\n",
       "kms_driven    float64\n",
       "owner           int64\n",
       "location       object\n",
       "mileage       float64\n",
       "Power_bhp     float64\n",
       "price           int64\n",
       "dtype: object"
      ]
     },
     "execution_count": 33,
     "metadata": {},
     "output_type": "execute_result"
    }
   ],
   "source": [
    "df.dtypes"
   ]
  },
  {
   "cell_type": "markdown",
   "id": "1a87260f",
   "metadata": {},
   "source": [
    "# Calculate outliers and remove it"
   ]
  },
  {
   "cell_type": "code",
   "execution_count": 34,
   "id": "1ce2e4a8",
   "metadata": {},
   "outputs": [],
   "source": [
    "\n",
    "\n",
    "# Identify the numeric columns\n",
    "numeric_cols = df.select_dtypes(include='number').columns\n",
    "\n",
    "# Calculate the z-score for each value\n",
    "z_scores = stats.zscore(df[numeric_cols])\n",
    "\n",
    "# Define the threshold z-score value\n",
    "threshold = 3\n",
    "\n",
    "# Use boolean indexing to filter out the rows that contain outliers\n",
    "df = df[(z_scores < threshold).all(axis=1)]\n",
    "\n"
   ]
  },
  {
   "cell_type": "code",
   "execution_count": 35,
   "id": "96a9b90d",
   "metadata": {},
   "outputs": [
    {
     "data": {
      "text/html": [
       "<div>\n",
       "<style scoped>\n",
       "    .dataframe tbody tr th:only-of-type {\n",
       "        vertical-align: middle;\n",
       "    }\n",
       "\n",
       "    .dataframe tbody tr th {\n",
       "        vertical-align: top;\n",
       "    }\n",
       "\n",
       "    .dataframe thead th {\n",
       "        text-align: right;\n",
       "    }\n",
       "</style>\n",
       "<table border=\"1\" class=\"dataframe\">\n",
       "  <thead>\n",
       "    <tr style=\"text-align: right;\">\n",
       "      <th></th>\n",
       "      <th>model_name</th>\n",
       "      <th>model_year</th>\n",
       "      <th>kms_driven</th>\n",
       "      <th>owner</th>\n",
       "      <th>location</th>\n",
       "      <th>mileage</th>\n",
       "      <th>Power_bhp</th>\n",
       "      <th>price</th>\n",
       "    </tr>\n",
       "  </thead>\n",
       "  <tbody>\n",
       "    <tr>\n",
       "      <th>0</th>\n",
       "      <td>Bajaj Avenger Cruise 220 2017</td>\n",
       "      <td>2017</td>\n",
       "      <td>17000.0</td>\n",
       "      <td>1</td>\n",
       "      <td>hyderabad</td>\n",
       "      <td>35.0</td>\n",
       "      <td>19.0</td>\n",
       "      <td>63500</td>\n",
       "    </tr>\n",
       "    <tr>\n",
       "      <th>1</th>\n",
       "      <td>Royal Enfield Classic 350cc 2016</td>\n",
       "      <td>2016</td>\n",
       "      <td>50000.0</td>\n",
       "      <td>1</td>\n",
       "      <td>hyderabad</td>\n",
       "      <td>35.0</td>\n",
       "      <td>19.8</td>\n",
       "      <td>115000</td>\n",
       "    </tr>\n",
       "    <tr>\n",
       "      <th>2</th>\n",
       "      <td>Hyosung GT250R 2012</td>\n",
       "      <td>2012</td>\n",
       "      <td>14795.0</td>\n",
       "      <td>1</td>\n",
       "      <td>hyderabad</td>\n",
       "      <td>30.0</td>\n",
       "      <td>28.0</td>\n",
       "      <td>300000</td>\n",
       "    </tr>\n",
       "    <tr>\n",
       "      <th>6</th>\n",
       "      <td>Bajaj Pulsar 180cc 2016</td>\n",
       "      <td>2016</td>\n",
       "      <td>19718.0</td>\n",
       "      <td>1</td>\n",
       "      <td>bangalore</td>\n",
       "      <td>65.0</td>\n",
       "      <td>17.0</td>\n",
       "      <td>55000</td>\n",
       "    </tr>\n",
       "    <tr>\n",
       "      <th>8</th>\n",
       "      <td>KTM Duke 390cc 2018</td>\n",
       "      <td>2018</td>\n",
       "      <td>1350.0</td>\n",
       "      <td>1</td>\n",
       "      <td>jaipur</td>\n",
       "      <td>25.0</td>\n",
       "      <td>42.9</td>\n",
       "      <td>198000</td>\n",
       "    </tr>\n",
       "    <tr>\n",
       "      <th>...</th>\n",
       "      <td>...</td>\n",
       "      <td>...</td>\n",
       "      <td>...</td>\n",
       "      <td>...</td>\n",
       "      <td>...</td>\n",
       "      <td>...</td>\n",
       "      <td>...</td>\n",
       "      <td>...</td>\n",
       "    </tr>\n",
       "    <tr>\n",
       "      <th>7849</th>\n",
       "      <td>Hero Karizma ZMR 223cc 2011</td>\n",
       "      <td>2011</td>\n",
       "      <td>66780.0</td>\n",
       "      <td>1</td>\n",
       "      <td>alipore</td>\n",
       "      <td>48.0</td>\n",
       "      <td>20.0</td>\n",
       "      <td>39899</td>\n",
       "    </tr>\n",
       "    <tr>\n",
       "      <th>7852</th>\n",
       "      <td>Yamaha YZF-R15 150cc 2011</td>\n",
       "      <td>2011</td>\n",
       "      <td>7000.0</td>\n",
       "      <td>1</td>\n",
       "      <td>agra</td>\n",
       "      <td>42.0</td>\n",
       "      <td>16.0</td>\n",
       "      <td>55000</td>\n",
       "    </tr>\n",
       "    <tr>\n",
       "      <th>7854</th>\n",
       "      <td>Bajaj Pulsar 180cc 2016</td>\n",
       "      <td>2016</td>\n",
       "      <td>6407.0</td>\n",
       "      <td>1</td>\n",
       "      <td>bangalore</td>\n",
       "      <td>65.0</td>\n",
       "      <td>17.0</td>\n",
       "      <td>61740</td>\n",
       "    </tr>\n",
       "    <tr>\n",
       "      <th>7855</th>\n",
       "      <td>Bajaj V15 150cc 2016</td>\n",
       "      <td>2016</td>\n",
       "      <td>7524.0</td>\n",
       "      <td>1</td>\n",
       "      <td>bangalore</td>\n",
       "      <td>57.0</td>\n",
       "      <td>11.8</td>\n",
       "      <td>49000</td>\n",
       "    </tr>\n",
       "    <tr>\n",
       "      <th>7856</th>\n",
       "      <td>Bajaj Pulsar 220cc 2016</td>\n",
       "      <td>2016</td>\n",
       "      <td>15000.0</td>\n",
       "      <td>1</td>\n",
       "      <td>chennai</td>\n",
       "      <td>38.0</td>\n",
       "      <td>21.0</td>\n",
       "      <td>65000</td>\n",
       "    </tr>\n",
       "  </tbody>\n",
       "</table>\n",
       "<p>4488 rows × 8 columns</p>\n",
       "</div>"
      ],
      "text/plain": [
       "                            model_name  model_year  kms_driven  owner  \\\n",
       "0        Bajaj Avenger Cruise 220 2017        2017     17000.0      1   \n",
       "1     Royal Enfield Classic 350cc 2016        2016     50000.0      1   \n",
       "2                  Hyosung GT250R 2012        2012     14795.0      1   \n",
       "6              Bajaj Pulsar 180cc 2016        2016     19718.0      1   \n",
       "8                  KTM Duke 390cc 2018        2018      1350.0      1   \n",
       "...                                ...         ...         ...    ...   \n",
       "7849       Hero Karizma ZMR 223cc 2011        2011     66780.0      1   \n",
       "7852         Yamaha YZF-R15 150cc 2011        2011      7000.0      1   \n",
       "7854           Bajaj Pulsar 180cc 2016        2016      6407.0      1   \n",
       "7855              Bajaj V15 150cc 2016        2016      7524.0      1   \n",
       "7856           Bajaj Pulsar 220cc 2016        2016     15000.0      1   \n",
       "\n",
       "       location  mileage  Power_bhp   price  \n",
       "0     hyderabad     35.0       19.0   63500  \n",
       "1     hyderabad     35.0       19.8  115000  \n",
       "2     hyderabad     30.0       28.0  300000  \n",
       "6     bangalore     65.0       17.0   55000  \n",
       "8        jaipur     25.0       42.9  198000  \n",
       "...         ...      ...        ...     ...  \n",
       "7849    alipore     48.0       20.0   39899  \n",
       "7852       agra     42.0       16.0   55000  \n",
       "7854  bangalore     65.0       17.0   61740  \n",
       "7855  bangalore     57.0       11.8   49000  \n",
       "7856    chennai     38.0       21.0   65000  \n",
       "\n",
       "[4488 rows x 8 columns]"
      ]
     },
     "execution_count": 35,
     "metadata": {},
     "output_type": "execute_result"
    }
   ],
   "source": [
    "df"
   ]
  },
  {
   "cell_type": "markdown",
   "id": "49e0c1ce",
   "metadata": {},
   "source": [
    "# 29 Questions About DataSet"
   ]
  },
  {
   "cell_type": "code",
   "execution_count": 36,
   "id": "2527972f",
   "metadata": {},
   "outputs": [
    {
     "name": "stdout",
     "output_type": "stream",
     "text": [
      "2017    765\n",
      "2016    710\n",
      "2018    583\n",
      "2015    516\n",
      "2014    414\n",
      "2019    360\n",
      "2013    247\n",
      "2012    171\n",
      "2020    166\n",
      "2011    142\n",
      "2010    103\n",
      "2009     80\n",
      "2008     44\n",
      "2021     42\n",
      "2006     36\n",
      "2007     28\n",
      "2005     24\n",
      "2004     18\n",
      "2001      9\n",
      "2002      7\n",
      "2003      6\n",
      "1991      4\n",
      "1997      4\n",
      "1996      3\n",
      "2000      2\n",
      "1994      1\n",
      "1999      1\n",
      "1986      1\n",
      "1990      1\n",
      "Name: model_year, dtype: int64\n"
     ]
    }
   ],
   "source": [
    "# 1) How many motorcycles were manufactured in each year?\n",
    "motorcycles_per_year = df['model_year'].value_counts()\n",
    "print(motorcycles_per_year)\n"
   ]
  },
  {
   "cell_type": "code",
   "execution_count": 37,
   "id": "8399c42d",
   "metadata": {},
   "outputs": [
    {
     "name": "stdout",
     "output_type": "stream",
     "text": [
      "location\n",
      "24 pargana      15964.6\n",
      "adilabad        14500.0\n",
      "adoni            9000.0\n",
      "adyar           16000.0\n",
      "agartala        23400.0\n",
      "                 ...   \n",
      "warangal        57000.0\n",
      "wardha          19165.0\n",
      "washim           7550.0\n",
      "yamuna nagar    15881.0\n",
      "zirakpur        28400.0\n",
      "Name: kms_driven, Length: 406, dtype: float64\n"
     ]
    }
   ],
   "source": [
    "# 2) What is the average number of kilometers driven for motorcycles in each location?\n",
    "average_kms_driven_by_location = df.groupby('location')['kms_driven'].mean()\n",
    "print(average_kms_driven_by_location)\n"
   ]
  },
  {
   "cell_type": "code",
   "execution_count": 38,
   "id": "674a1558",
   "metadata": {},
   "outputs": [],
   "source": [
    "# 3) How many motorcycles have a mileage less than the average mileage of all motorcycles?\n",
    "average_mileage_all_motorcycles = df['mileage'].mean()\n",
    "motorcycles_below_average_mileage = df[df['mileage'] < average_mileage_all_motorcycles]\n"
   ]
  },
  {
   "cell_type": "code",
   "execution_count": 39,
   "id": "46fb8257",
   "metadata": {},
   "outputs": [
    {
     "name": "stdout",
     "output_type": "stream",
     "text": [
      "458.0\n"
     ]
    }
   ],
   "source": [
    "\n",
    "# 4) What is the maximum mileage among the motorcycles?\n",
    "max_mileage = df['mileage'].max()\n",
    "print(max_mileage)\n"
   ]
  },
  {
   "cell_type": "code",
   "execution_count": 40,
   "id": "11930791",
   "metadata": {},
   "outputs": [
    {
     "name": "stdout",
     "output_type": "stream",
     "text": [
      "location\n",
      "24 pargana      20.400000\n",
      "adilabad        16.000000\n",
      "adoni           25.100000\n",
      "adyar           25.000000\n",
      "agartala        17.440000\n",
      "                  ...    \n",
      "warangal        16.700000\n",
      "wardha          18.100000\n",
      "washim          12.200000\n",
      "yamuna nagar    19.166667\n",
      "zirakpur        22.760000\n",
      "Name: Power_bhp, Length: 406, dtype: float64\n"
     ]
    }
   ],
   "source": [
    "\n",
    "# 5) What is the average power output of motorcycles in each location?\n",
    "average_power_by_location = df.groupby('location')['Power_bhp'].mean()\n",
    "print(average_power_by_location)\n"
   ]
  },
  {
   "cell_type": "code",
   "execution_count": 41,
   "id": "94305852",
   "metadata": {},
   "outputs": [
    {
     "name": "stdout",
     "output_type": "stream",
     "text": [
      "1    3979\n",
      "2     509\n",
      "Name: owner, dtype: int64\n"
     ]
    }
   ],
   "source": [
    "\n",
    "# 6) How many motorcycles were manufactured in each owner category?\n",
    "motorcycles_per_owner = df['owner'].value_counts()\n",
    "print(motorcycles_per_owner)\n"
   ]
  },
  {
   "cell_type": "code",
   "execution_count": null,
   "id": "ff4b71ff",
   "metadata": {},
   "outputs": [],
   "source": []
  },
  {
   "cell_type": "code",
   "execution_count": 42,
   "id": "c1bd41d3",
   "metadata": {},
   "outputs": [
    {
     "name": "stdout",
     "output_type": "stream",
     "text": [
      "57\n"
     ]
    }
   ],
   "source": [
    "\n",
    "# 8) How many motorcycles have a mileage greater than 40 kmpl and a power output greater than 20 bhp?\n",
    "motorcycles_with_high_mileage_power = df[(df['mileage'] > 40) & (df['Power_bhp'] > 20)]\n",
    "print(len(motorcycles_with_high_mileage_power))\n"
   ]
  },
  {
   "cell_type": "code",
   "execution_count": 43,
   "id": "8e027654",
   "metadata": {},
   "outputs": [
    {
     "name": "stdout",
     "output_type": "stream",
     "text": [
      "location\n",
      "24 pargana       69875.000000\n",
      "adilabad         50000.000000\n",
      "adoni           150000.000000\n",
      "adyar           130000.000000\n",
      "agartala        115000.000000\n",
      "                    ...      \n",
      "warangal         75000.000000\n",
      "wardha           89285.000000\n",
      "washim           92500.000000\n",
      "yamuna nagar     77000.000000\n",
      "zirakpur         83466.666667\n",
      "Name: price, Length: 368, dtype: float64\n"
     ]
    }
   ],
   "source": [
    "\n",
    "# 9) What is the average price of motorcycles in each location for motorcycles with a mileage greater than 30 kmpl?\n",
    "average_price_high_mileage_by_location = df[df['mileage'] > 30].groupby('location')['price'].mean()\n",
    "print(average_price_high_mileage_by_location)\n"
   ]
  },
  {
   "cell_type": "code",
   "execution_count": 44,
   "id": "1fe3b908",
   "metadata": {},
   "outputs": [
    {
     "name": "stdout",
     "output_type": "stream",
     "text": [
      "775\n"
     ]
    }
   ],
   "source": [
    "\n",
    "# 10) How many motorcycles have a price greater than 100,000 and a power output greater than 25 bhp?\n",
    "motorcycles_expensive_high_power = df[(df['price'] > 100000) & (df['Power_bhp'] > 25)]\n",
    "print(len(motorcycles_expensive_high_power))\n"
   ]
  },
  {
   "cell_type": "code",
   "execution_count": 45,
   "id": "9ab0e2c9",
   "metadata": {},
   "outputs": [
    {
     "name": "stdout",
     "output_type": "stream",
     "text": [
      "12433.770634231103\n"
     ]
    }
   ],
   "source": [
    "\n",
    "# 11) What is the average number of kilometers driven for motorcycles with a model year of 2018 or later?\n",
    "average_kms_driven_newer_models = df[df['model_year'] >= 2018]['kms_driven'].mean()\n",
    "print(average_kms_driven_newer_models)\n"
   ]
  },
  {
   "cell_type": "code",
   "execution_count": 46,
   "id": "35af3f5a",
   "metadata": {},
   "outputs": [
    {
     "name": "stdout",
     "output_type": "stream",
     "text": [
      "1432\n"
     ]
    }
   ],
   "source": [
    "\n",
    "# 12) How many motorcycles have a price between 50,000 and 100,000?\n",
    "motorcycles_price_range = df[(df['price'] >= 50000) & (df['price'] <= 100000)]\n",
    "print(len(motorcycles_price_range))\n"
   ]
  },
  {
   "cell_type": "code",
   "execution_count": 47,
   "id": "7bb45676",
   "metadata": {},
   "outputs": [
    {
     "name": "stdout",
     "output_type": "stream",
     "text": [
      "72.68\n"
     ]
    }
   ],
   "source": [
    "\n",
    "# 13) What is the maximum power output among the motorcycles?\n",
    "max_power = df['Power_bhp'].max()\n",
    "print(max_power)\n"
   ]
  },
  {
   "cell_type": "code",
   "execution_count": 48,
   "id": "1fc37b4d",
   "metadata": {},
   "outputs": [
    {
     "name": "stdout",
     "output_type": "stream",
     "text": [
      "1746\n"
     ]
    }
   ],
   "source": [
    "\n",
    "# 14) How many motorcycles have a mileage greater than 35 kmpl and a price less than 75,000?\n",
    "motorcycles_high_mileage_low_price = df[(df['mileage'] > 35) & (df['price'] < 75000)]\n",
    "print(len(motorcycles_high_mileage_low_price))\n"
   ]
  },
  {
   "cell_type": "code",
   "execution_count": 49,
   "id": "da794f9a",
   "metadata": {},
   "outputs": [
    {
     "name": "stdout",
     "output_type": "stream",
     "text": [
      "location\n",
      "24 pargana       215000.0\n",
      "ahmedabad        244800.0\n",
      "ahmednagar       250000.0\n",
      "akola            200000.0\n",
      "alibag           210000.0\n",
      "                   ...   \n",
      "unnao            205000.0\n",
      "vadodara         189100.0\n",
      "virar            145000.0\n",
      "visakhapatnam    145000.0\n",
      "zirakpur         200000.0\n",
      "Name: price, Length: 99, dtype: float64\n"
     ]
    }
   ],
   "source": [
    "\n",
    "# 15) What is the average price of motorcycles in each location for motorcycles with a power output greater than 30 bhp?\n",
    "average_price_high_power_by_location = df[df['Power_bhp'] > 30].groupby('location')['price'].mean()\n",
    "print(average_price_high_power_by_location)\n"
   ]
  },
  {
   "cell_type": "code",
   "execution_count": 50,
   "id": "c5c593c7",
   "metadata": {},
   "outputs": [
    {
     "name": "stdout",
     "output_type": "stream",
     "text": [
      "1812\n"
     ]
    }
   ],
   "source": [
    "\n",
    "# 16) How many motorcycles have a price greater than the average price of all motorcycles?\n",
    "average_price_all_motorcycles = df['price'].mean()\n",
    "motorcycles_above_average_price = df[df['price'] > average_price_all_motorcycles]\n",
    "print(len(motorcycles_above_average_price))\n"
   ]
  },
  {
   "cell_type": "code",
   "execution_count": 51,
   "id": "12aa75bf",
   "metadata": {},
   "outputs": [
    {
     "name": "stdout",
     "output_type": "stream",
     "text": [
      "5.0\n"
     ]
    }
   ],
   "source": [
    "\n",
    "# 17) What is the minimum mileage among the motorcycles?\n",
    "min_mileage = df['mileage'].min()\n",
    "print(min_mileage)\n"
   ]
  },
  {
   "cell_type": "code",
   "execution_count": 52,
   "id": "7d738e5b",
   "metadata": {},
   "outputs": [
    {
     "name": "stdout",
     "output_type": "stream",
     "text": [
      "854\n"
     ]
    }
   ],
   "source": [
    "\n",
    "# 18) How many motorcycles have a price less than 50,000 and a power output less than 15 bhp?\n",
    "motorcycles_low_price_low_power = df[(df['price'] < 50000) & (df['Power_bhp'] < 15)]\n",
    "print(len(motorcycles_low_price_low_power))\n"
   ]
  },
  {
   "cell_type": "code",
   "execution_count": 53,
   "id": "35d82b06",
   "metadata": {},
   "outputs": [
    {
     "name": "stdout",
     "output_type": "stream",
     "text": [
      "owner\n",
      "1    21291.721035\n",
      "2    28256.891945\n",
      "Name: kms_driven, dtype: float64\n"
     ]
    }
   ],
   "source": [
    "\n",
    "# 19) What is the average number of kilometers driven for motorcycles in each owner category?\n",
    "average_kms_driven_by_owner = df.groupby('owner')['kms_driven'].mean()\n",
    "print(average_kms_driven_by_owner)\n"
   ]
  },
  {
   "cell_type": "code",
   "execution_count": 54,
   "id": "e641622b",
   "metadata": {},
   "outputs": [
    {
     "name": "stdout",
     "output_type": "stream",
     "text": [
      "1762\n"
     ]
    }
   ],
   "source": [
    "\n",
    "# 20) How many motorcycles have a mileage between 25 kmpl and 35 kmpl?\n",
    "motorcycles_mileage_range = df[(df['mileage'] >= 25) & (df['mileage'] <= 35)]\n",
    "print(len(motorcycles_mileage_range))\n"
   ]
  },
  {
   "cell_type": "code",
   "execution_count": 55,
   "id": "96e1d888",
   "metadata": {},
   "outputs": [
    {
     "name": "stdout",
     "output_type": "stream",
     "text": [
      "550000\n"
     ]
    }
   ],
   "source": [
    "\n",
    "# 21) What is the maximum price among the motorcycles?\n",
    "max_price = df['price'].max()\n",
    "print(max_price)\n"
   ]
  },
  {
   "cell_type": "code",
   "execution_count": 56,
   "id": "75df5bef",
   "metadata": {},
   "outputs": [
    {
     "name": "stdout",
     "output_type": "stream",
     "text": [
      "2487\n"
     ]
    }
   ],
   "source": [
    "\n",
    "# 22) How many motorcycles have a power output between 10 bhp and 20 bhp?\n",
    "motorcycles_power_range = df[(df['Power_bhp'] >= 10) & (df['Power_bhp'] <= 20)]\n",
    "print(len(motorcycles_power_range))\n"
   ]
  },
  {
   "cell_type": "code",
   "execution_count": 57,
   "id": "eb5c19e3",
   "metadata": {},
   "outputs": [
    {
     "name": "stdout",
     "output_type": "stream",
     "text": [
      "location\n",
      "agra             23000.000000\n",
      "ahmedabad        36636.666667\n",
      "ajmer            21000.000000\n",
      "bangalore       151536.000000\n",
      "bharatpur        49400.000000\n",
      "bhubaneshwar     28500.000000\n",
      "chakan          346600.000000\n",
      "chandigarh      545000.000000\n",
      "chennai          46692.307692\n",
      "chittorgarh      51000.000000\n",
      "delhi            84880.095238\n",
      "ernakulam        29339.000000\n",
      "faridabad        17566.666667\n",
      "ghaziabad       515000.000000\n",
      "gurgaon          91750.000000\n",
      "hyderabad       145179.000000\n",
      "jaipur           34160.000000\n",
      "jind             16666.000000\n",
      "kolkata          20000.000000\n",
      "kurukshetra      18750.000000\n",
      "ludhiana         22300.000000\n",
      "mulbagal         33000.000000\n",
      "mumbai          225935.500000\n",
      "noida            19051.000000\n",
      "nokha            19280.000000\n",
      "pune            121160.000000\n",
      "thane            42000.000000\n",
      "tiruvallur       37051.333333\n",
      "vadodara         33789.142857\n",
      "varanasi         20000.000000\n",
      "Name: price, dtype: float64\n"
     ]
    }
   ],
   "source": [
    "\n",
    "# 23) What is the average price of motorcycles in each location for motorcycles with a mileage less than 20 kmpl?\n",
    "average_price_low_mileage_by_location = df[df['mileage'] < 20].groupby('location')['price'].mean()\n",
    "print(average_price_low_mileage_by_location)\n"
   ]
  },
  {
   "cell_type": "code",
   "execution_count": 58,
   "id": "1c35f5a8",
   "metadata": {},
   "outputs": [
    {
     "name": "stdout",
     "output_type": "stream",
     "text": [
      "216\n"
     ]
    }
   ],
   "source": [
    "\n",
    "# 24) How many motorcycles have a price less than 25,000 and a power output less than 10 bhp?\n",
    "motorcycles_cheap_low_power = df[(df['price'] < 25000) & (df['Power_bhp'] < 10)]\n",
    "print(len(motorcycles_cheap_low_power))\n"
   ]
  },
  {
   "cell_type": "code",
   "execution_count": 59,
   "id": "21c34545",
   "metadata": {},
   "outputs": [
    {
     "name": "stdout",
     "output_type": "stream",
     "text": [
      "43.59692513368984\n"
     ]
    }
   ],
   "source": [
    "\n",
    "# 25) What is the average mileage among the motorcycles?\n",
    "average_mileage = df['mileage'].mean()\n",
    "print(average_mileage)\n"
   ]
  },
  {
   "cell_type": "code",
   "execution_count": 60,
   "id": "31b465c5",
   "metadata": {},
   "outputs": [
    {
     "name": "stdout",
     "output_type": "stream",
     "text": [
      "1792\n"
     ]
    }
   ],
   "source": [
    "\n",
    "# 26) How many motorcycles have a price greater than 75,000 and a mileage greater than 30 kmpl?\n",
    "motorcycles_expensive_high_mileage = df[(df['price'] > 75000) & (df['mileage'] > 30)]\n",
    "print(len(motorcycles_expensive_high_mileage))\n"
   ]
  },
  {
   "cell_type": "code",
   "execution_count": 61,
   "id": "f2fd0930",
   "metadata": {},
   "outputs": [
    {
     "name": "stdout",
     "output_type": "stream",
     "text": [
      "110000.0\n"
     ]
    }
   ],
   "source": [
    "\n",
    "# 27) What is the maximum number of kilometers driven among the motorcycles?\n",
    "max_kms_driven = df['kms_driven'].max()\n",
    "print(max_kms_driven)\n"
   ]
  },
  {
   "cell_type": "code",
   "execution_count": 62,
   "id": "b969ef0f",
   "metadata": {},
   "outputs": [
    {
     "name": "stdout",
     "output_type": "stream",
     "text": [
      "812\n"
     ]
    }
   ],
   "source": [
    "\n",
    "# 28) How many motorcycles have a price between 30,000 and 50,000?\n",
    "motorcycles_price_range_2 = df[(df['price'] >= 30000) & (df['price'] <= 50000)]\n",
    "print(len(motorcycles_price_range_2))\n",
    "\n"
   ]
  },
  {
   "cell_type": "code",
   "execution_count": 63,
   "id": "298fd9b5",
   "metadata": {},
   "outputs": [
    {
     "name": "stdout",
     "output_type": "stream",
     "text": [
      "owner\n",
      "1    20.421181\n",
      "2    21.456365\n",
      "Name: Power_bhp, dtype: float64\n"
     ]
    }
   ],
   "source": [
    "# 29) What is the average power output of motorcycles in each owner category?\n",
    "average_power_by_owner = df.groupby('owner')['Power_bhp'].mean()\n",
    "print(average_power_by_owner)"
   ]
  },
  {
   "cell_type": "markdown",
   "id": "e725d4f6",
   "metadata": {},
   "source": [
    "# Label Encoder "
   ]
  },
  {
   "cell_type": "code",
   "execution_count": 64,
   "id": "bf3d3660",
   "metadata": {},
   "outputs": [
    {
     "name": "stderr",
     "output_type": "stream",
     "text": [
      "C:\\Users\\kemst\\AppData\\Local\\Temp\\ipykernel_13596\\3703064095.py:2: SettingWithCopyWarning: \n",
      "A value is trying to be set on a copy of a slice from a DataFrame.\n",
      "Try using .loc[row_indexer,col_indexer] = value instead\n",
      "\n",
      "See the caveats in the documentation: https://pandas.pydata.org/pandas-docs/stable/user_guide/indexing.html#returning-a-view-versus-a-copy\n",
      "  df['model_name'] = label_encoder.fit_transform(df['model_name'])\n",
      "C:\\Users\\kemst\\AppData\\Local\\Temp\\ipykernel_13596\\3703064095.py:3: SettingWithCopyWarning: \n",
      "A value is trying to be set on a copy of a slice from a DataFrame.\n",
      "Try using .loc[row_indexer,col_indexer] = value instead\n",
      "\n",
      "See the caveats in the documentation: https://pandas.pydata.org/pandas-docs/stable/user_guide/indexing.html#returning-a-view-versus-a-copy\n",
      "  df['location'] = label_encoder.fit_transform(df['location'])\n"
     ]
    }
   ],
   "source": [
    "label_encoder = LabelEncoder()\n",
    "df['model_name'] = label_encoder.fit_transform(df['model_name'])\n",
    "df['location'] = label_encoder.fit_transform(df['location'])"
   ]
  },
  {
   "cell_type": "markdown",
   "id": "97d0946c",
   "metadata": {},
   "source": [
    "# Select coulmn to predict"
   ]
  },
  {
   "cell_type": "code",
   "execution_count": 65,
   "id": "38a1efbb",
   "metadata": {},
   "outputs": [],
   "source": [
    "X = df.drop('price', axis=1)\n",
    "y = df['price']"
   ]
  },
  {
   "cell_type": "markdown",
   "id": "899e0ace",
   "metadata": {},
   "source": [
    "# Apply Model"
   ]
  },
  {
   "cell_type": "code",
   "execution_count": 66,
   "id": "6c306f14",
   "metadata": {},
   "outputs": [
    {
     "data": {
      "text/html": [
       "<style>#sk-container-id-1 {color: black;background-color: white;}#sk-container-id-1 pre{padding: 0;}#sk-container-id-1 div.sk-toggleable {background-color: white;}#sk-container-id-1 label.sk-toggleable__label {cursor: pointer;display: block;width: 100%;margin-bottom: 0;padding: 0.3em;box-sizing: border-box;text-align: center;}#sk-container-id-1 label.sk-toggleable__label-arrow:before {content: \"▸\";float: left;margin-right: 0.25em;color: #696969;}#sk-container-id-1 label.sk-toggleable__label-arrow:hover:before {color: black;}#sk-container-id-1 div.sk-estimator:hover label.sk-toggleable__label-arrow:before {color: black;}#sk-container-id-1 div.sk-toggleable__content {max-height: 0;max-width: 0;overflow: hidden;text-align: left;background-color: #f0f8ff;}#sk-container-id-1 div.sk-toggleable__content pre {margin: 0.2em;color: black;border-radius: 0.25em;background-color: #f0f8ff;}#sk-container-id-1 input.sk-toggleable__control:checked~div.sk-toggleable__content {max-height: 200px;max-width: 100%;overflow: auto;}#sk-container-id-1 input.sk-toggleable__control:checked~label.sk-toggleable__label-arrow:before {content: \"▾\";}#sk-container-id-1 div.sk-estimator input.sk-toggleable__control:checked~label.sk-toggleable__label {background-color: #d4ebff;}#sk-container-id-1 div.sk-label input.sk-toggleable__control:checked~label.sk-toggleable__label {background-color: #d4ebff;}#sk-container-id-1 input.sk-hidden--visually {border: 0;clip: rect(1px 1px 1px 1px);clip: rect(1px, 1px, 1px, 1px);height: 1px;margin: -1px;overflow: hidden;padding: 0;position: absolute;width: 1px;}#sk-container-id-1 div.sk-estimator {font-family: monospace;background-color: #f0f8ff;border: 1px dotted black;border-radius: 0.25em;box-sizing: border-box;margin-bottom: 0.5em;}#sk-container-id-1 div.sk-estimator:hover {background-color: #d4ebff;}#sk-container-id-1 div.sk-parallel-item::after {content: \"\";width: 100%;border-bottom: 1px solid gray;flex-grow: 1;}#sk-container-id-1 div.sk-label:hover label.sk-toggleable__label {background-color: #d4ebff;}#sk-container-id-1 div.sk-serial::before {content: \"\";position: absolute;border-left: 1px solid gray;box-sizing: border-box;top: 0;bottom: 0;left: 50%;z-index: 0;}#sk-container-id-1 div.sk-serial {display: flex;flex-direction: column;align-items: center;background-color: white;padding-right: 0.2em;padding-left: 0.2em;position: relative;}#sk-container-id-1 div.sk-item {position: relative;z-index: 1;}#sk-container-id-1 div.sk-parallel {display: flex;align-items: stretch;justify-content: center;background-color: white;position: relative;}#sk-container-id-1 div.sk-item::before, #sk-container-id-1 div.sk-parallel-item::before {content: \"\";position: absolute;border-left: 1px solid gray;box-sizing: border-box;top: 0;bottom: 0;left: 50%;z-index: -1;}#sk-container-id-1 div.sk-parallel-item {display: flex;flex-direction: column;z-index: 1;position: relative;background-color: white;}#sk-container-id-1 div.sk-parallel-item:first-child::after {align-self: flex-end;width: 50%;}#sk-container-id-1 div.sk-parallel-item:last-child::after {align-self: flex-start;width: 50%;}#sk-container-id-1 div.sk-parallel-item:only-child::after {width: 0;}#sk-container-id-1 div.sk-dashed-wrapped {border: 1px dashed gray;margin: 0 0.4em 0.5em 0.4em;box-sizing: border-box;padding-bottom: 0.4em;background-color: white;}#sk-container-id-1 div.sk-label label {font-family: monospace;font-weight: bold;display: inline-block;line-height: 1.2em;}#sk-container-id-1 div.sk-label-container {text-align: center;}#sk-container-id-1 div.sk-container {/* jupyter's `normalize.less` sets `[hidden] { display: none; }` but bootstrap.min.css set `[hidden] { display: none !important; }` so we also need the `!important` here to be able to override the default hidden behavior on the sphinx rendered scikit-learn.org. See: https://github.com/scikit-learn/scikit-learn/issues/21755 */display: inline-block !important;position: relative;}#sk-container-id-1 div.sk-text-repr-fallback {display: none;}</style><div id=\"sk-container-id-1\" class=\"sk-top-container\"><div class=\"sk-text-repr-fallback\"><pre>LinearRegression()</pre><b>In a Jupyter environment, please rerun this cell to show the HTML representation or trust the notebook. <br />On GitHub, the HTML representation is unable to render, please try loading this page with nbviewer.org.</b></div><div class=\"sk-container\" hidden><div class=\"sk-item\"><div class=\"sk-estimator sk-toggleable\"><input class=\"sk-toggleable__control sk-hidden--visually\" id=\"sk-estimator-id-1\" type=\"checkbox\" checked><label for=\"sk-estimator-id-1\" class=\"sk-toggleable__label sk-toggleable__label-arrow\">LinearRegression</label><div class=\"sk-toggleable__content\"><pre>LinearRegression()</pre></div></div></div></div></div>"
      ],
      "text/plain": [
       "LinearRegression()"
      ]
     },
     "execution_count": 66,
     "metadata": {},
     "output_type": "execute_result"
    }
   ],
   "source": [
    "model = LinearRegression()\n",
    "model.fit(X, y)"
   ]
  },
  {
   "cell_type": "markdown",
   "id": "fbcafba7",
   "metadata": {},
   "source": [
    "# R-squared score"
   ]
  },
  {
   "cell_type": "code",
   "execution_count": 67,
   "id": "0e788d22",
   "metadata": {},
   "outputs": [
    {
     "name": "stdout",
     "output_type": "stream",
     "text": [
      "Accurcy:  74.17049217713708 % --> R-squared score\n"
     ]
    }
   ],
   "source": [
    "y_pred = model.predict(X)\n",
    "\n",
    "r2 = r2_score(y, y_pred)\n",
    "print(\"Accurcy: \", r2*100,\"% --> R-squared score\")"
   ]
  },
  {
   "cell_type": "code",
   "execution_count": null,
   "id": "9c9a6791",
   "metadata": {},
   "outputs": [],
   "source": []
  }
 ],
 "metadata": {
  "kernelspec": {
   "display_name": "Python 3 (ipykernel)",
   "language": "python",
   "name": "python3"
  },
  "language_info": {
   "codemirror_mode": {
    "name": "ipython",
    "version": 3
   },
   "file_extension": ".py",
   "mimetype": "text/x-python",
   "name": "python",
   "nbconvert_exporter": "python",
   "pygments_lexer": "ipython3",
   "version": "3.10.9"
  }
 },
 "nbformat": 4,
 "nbformat_minor": 5
}
